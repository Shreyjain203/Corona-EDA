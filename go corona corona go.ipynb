{
 "cells": [
  {
   "cell_type": "code",
   "execution_count": 1,
   "metadata": {},
   "outputs": [],
   "source": [
    "import pandas as pd\n",
    "import numpy as np\n",
    "import matplotlib.pyplot as plt\n",
    "import seaborn as sns\n",
    "import warnings\n",
    "%matplotlib inline"
   ]
  },
  {
   "cell_type": "code",
   "execution_count": 2,
   "metadata": {},
   "outputs": [],
   "source": [
    "df1=pd.read_csv('train (1).csv')"
   ]
  },
  {
   "cell_type": "code",
   "execution_count": 3,
   "metadata": {},
   "outputs": [],
   "source": [
    "df2 = df1"
   ]
  },
  {
   "cell_type": "code",
   "execution_count": 4,
   "metadata": {},
   "outputs": [
    {
     "data": {
      "text/plain": [
       "(20580, 6)"
      ]
     },
     "execution_count": 4,
     "metadata": {},
     "output_type": "execute_result"
    }
   ],
   "source": [
    "df2.shape"
   ]
  },
  {
   "cell_type": "code",
   "execution_count": 5,
   "metadata": {},
   "outputs": [
    {
     "data": {
      "text/html": [
       "<div>\n",
       "<style scoped>\n",
       "    .dataframe tbody tr th:only-of-type {\n",
       "        vertical-align: middle;\n",
       "    }\n",
       "\n",
       "    .dataframe tbody tr th {\n",
       "        vertical-align: top;\n",
       "    }\n",
       "\n",
       "    .dataframe thead th {\n",
       "        text-align: right;\n",
       "    }\n",
       "</style>\n",
       "<table border=\"1\" class=\"dataframe\">\n",
       "  <thead>\n",
       "    <tr style=\"text-align: right;\">\n",
       "      <th></th>\n",
       "      <th>Id</th>\n",
       "      <th>Province_State</th>\n",
       "      <th>Country_Region</th>\n",
       "      <th>Date</th>\n",
       "      <th>ConfirmedCases</th>\n",
       "      <th>Fatalities</th>\n",
       "    </tr>\n",
       "  </thead>\n",
       "  <tbody>\n",
       "    <tr>\n",
       "      <td>0</td>\n",
       "      <td>1</td>\n",
       "      <td>NaN</td>\n",
       "      <td>Afghanistan</td>\n",
       "      <td>2020-01-22</td>\n",
       "      <td>0.0</td>\n",
       "      <td>0.0</td>\n",
       "    </tr>\n",
       "    <tr>\n",
       "      <td>1</td>\n",
       "      <td>2</td>\n",
       "      <td>NaN</td>\n",
       "      <td>Afghanistan</td>\n",
       "      <td>2020-01-23</td>\n",
       "      <td>0.0</td>\n",
       "      <td>0.0</td>\n",
       "    </tr>\n",
       "    <tr>\n",
       "      <td>2</td>\n",
       "      <td>3</td>\n",
       "      <td>NaN</td>\n",
       "      <td>Afghanistan</td>\n",
       "      <td>2020-01-24</td>\n",
       "      <td>0.0</td>\n",
       "      <td>0.0</td>\n",
       "    </tr>\n",
       "    <tr>\n",
       "      <td>3</td>\n",
       "      <td>4</td>\n",
       "      <td>NaN</td>\n",
       "      <td>Afghanistan</td>\n",
       "      <td>2020-01-25</td>\n",
       "      <td>0.0</td>\n",
       "      <td>0.0</td>\n",
       "    </tr>\n",
       "    <tr>\n",
       "      <td>4</td>\n",
       "      <td>5</td>\n",
       "      <td>NaN</td>\n",
       "      <td>Afghanistan</td>\n",
       "      <td>2020-01-26</td>\n",
       "      <td>0.0</td>\n",
       "      <td>0.0</td>\n",
       "    </tr>\n",
       "    <tr>\n",
       "      <td>5</td>\n",
       "      <td>6</td>\n",
       "      <td>NaN</td>\n",
       "      <td>Afghanistan</td>\n",
       "      <td>2020-01-27</td>\n",
       "      <td>0.0</td>\n",
       "      <td>0.0</td>\n",
       "    </tr>\n",
       "    <tr>\n",
       "      <td>6</td>\n",
       "      <td>7</td>\n",
       "      <td>NaN</td>\n",
       "      <td>Afghanistan</td>\n",
       "      <td>2020-01-28</td>\n",
       "      <td>0.0</td>\n",
       "      <td>0.0</td>\n",
       "    </tr>\n",
       "    <tr>\n",
       "      <td>7</td>\n",
       "      <td>8</td>\n",
       "      <td>NaN</td>\n",
       "      <td>Afghanistan</td>\n",
       "      <td>2020-01-29</td>\n",
       "      <td>0.0</td>\n",
       "      <td>0.0</td>\n",
       "    </tr>\n",
       "    <tr>\n",
       "      <td>8</td>\n",
       "      <td>9</td>\n",
       "      <td>NaN</td>\n",
       "      <td>Afghanistan</td>\n",
       "      <td>2020-01-30</td>\n",
       "      <td>0.0</td>\n",
       "      <td>0.0</td>\n",
       "    </tr>\n",
       "    <tr>\n",
       "      <td>9</td>\n",
       "      <td>10</td>\n",
       "      <td>NaN</td>\n",
       "      <td>Afghanistan</td>\n",
       "      <td>2020-01-31</td>\n",
       "      <td>0.0</td>\n",
       "      <td>0.0</td>\n",
       "    </tr>\n",
       "  </tbody>\n",
       "</table>\n",
       "</div>"
      ],
      "text/plain": [
       "   Id Province_State Country_Region        Date  ConfirmedCases  Fatalities\n",
       "0   1            NaN    Afghanistan  2020-01-22             0.0         0.0\n",
       "1   2            NaN    Afghanistan  2020-01-23             0.0         0.0\n",
       "2   3            NaN    Afghanistan  2020-01-24             0.0         0.0\n",
       "3   4            NaN    Afghanistan  2020-01-25             0.0         0.0\n",
       "4   5            NaN    Afghanistan  2020-01-26             0.0         0.0\n",
       "5   6            NaN    Afghanistan  2020-01-27             0.0         0.0\n",
       "6   7            NaN    Afghanistan  2020-01-28             0.0         0.0\n",
       "7   8            NaN    Afghanistan  2020-01-29             0.0         0.0\n",
       "8   9            NaN    Afghanistan  2020-01-30             0.0         0.0\n",
       "9  10            NaN    Afghanistan  2020-01-31             0.0         0.0"
      ]
     },
     "execution_count": 5,
     "metadata": {},
     "output_type": "execute_result"
    }
   ],
   "source": [
    "df2.head(10)"
   ]
  },
  {
   "cell_type": "code",
   "execution_count": 6,
   "metadata": {},
   "outputs": [
    {
     "data": {
      "text/plain": [
       "Index(['Id', 'Province_State', 'Country_Region', 'Date', 'ConfirmedCases',\n",
       "       'Fatalities'],\n",
       "      dtype='object')"
      ]
     },
     "execution_count": 6,
     "metadata": {},
     "output_type": "execute_result"
    }
   ],
   "source": [
    "df2.columns"
   ]
  },
  {
   "cell_type": "code",
   "execution_count": 7,
   "metadata": {},
   "outputs": [
    {
     "data": {
      "text/html": [
       "<div>\n",
       "<style scoped>\n",
       "    .dataframe tbody tr th:only-of-type {\n",
       "        vertical-align: middle;\n",
       "    }\n",
       "\n",
       "    .dataframe tbody tr th {\n",
       "        vertical-align: top;\n",
       "    }\n",
       "\n",
       "    .dataframe thead th {\n",
       "        text-align: right;\n",
       "    }\n",
       "</style>\n",
       "<table border=\"1\" class=\"dataframe\">\n",
       "  <thead>\n",
       "    <tr style=\"text-align: right;\">\n",
       "      <th></th>\n",
       "      <th>Id</th>\n",
       "      <th>ConfirmedCases</th>\n",
       "      <th>Fatalities</th>\n",
       "    </tr>\n",
       "  </thead>\n",
       "  <tbody>\n",
       "    <tr>\n",
       "      <td>count</td>\n",
       "      <td>20580.000000</td>\n",
       "      <td>20580.000000</td>\n",
       "      <td>20580.000000</td>\n",
       "    </tr>\n",
       "    <tr>\n",
       "      <td>mean</td>\n",
       "      <td>14685.500000</td>\n",
       "      <td>514.939116</td>\n",
       "      <td>21.080952</td>\n",
       "    </tr>\n",
       "    <tr>\n",
       "      <td>std</td>\n",
       "      <td>8487.230117</td>\n",
       "      <td>4541.261768</td>\n",
       "      <td>287.758197</td>\n",
       "    </tr>\n",
       "    <tr>\n",
       "      <td>min</td>\n",
       "      <td>1.000000</td>\n",
       "      <td>0.000000</td>\n",
       "      <td>0.000000</td>\n",
       "    </tr>\n",
       "    <tr>\n",
       "      <td>25%</td>\n",
       "      <td>7335.750000</td>\n",
       "      <td>0.000000</td>\n",
       "      <td>0.000000</td>\n",
       "    </tr>\n",
       "    <tr>\n",
       "      <td>50%</td>\n",
       "      <td>14685.500000</td>\n",
       "      <td>0.000000</td>\n",
       "      <td>0.000000</td>\n",
       "    </tr>\n",
       "    <tr>\n",
       "      <td>75%</td>\n",
       "      <td>22035.250000</td>\n",
       "      <td>35.000000</td>\n",
       "      <td>0.000000</td>\n",
       "    </tr>\n",
       "    <tr>\n",
       "      <td>max</td>\n",
       "      <td>29370.000000</td>\n",
       "      <td>105792.000000</td>\n",
       "      <td>12428.000000</td>\n",
       "    </tr>\n",
       "  </tbody>\n",
       "</table>\n",
       "</div>"
      ],
      "text/plain": [
       "                 Id  ConfirmedCases    Fatalities\n",
       "count  20580.000000    20580.000000  20580.000000\n",
       "mean   14685.500000      514.939116     21.080952\n",
       "std     8487.230117     4541.261768    287.758197\n",
       "min        1.000000        0.000000      0.000000\n",
       "25%     7335.750000        0.000000      0.000000\n",
       "50%    14685.500000        0.000000      0.000000\n",
       "75%    22035.250000       35.000000      0.000000\n",
       "max    29370.000000   105792.000000  12428.000000"
      ]
     },
     "execution_count": 7,
     "metadata": {},
     "output_type": "execute_result"
    }
   ],
   "source": [
    "df2.describe()"
   ]
  },
  {
   "cell_type": "code",
   "execution_count": 8,
   "metadata": {},
   "outputs": [],
   "source": [
    "df2.columns = ['Id', 'Province_State', 'Country', 'Date', 'Confirmed_Cases',\n",
    "       'Fatalities']"
   ]
  },
  {
   "cell_type": "code",
   "execution_count": 9,
   "metadata": {},
   "outputs": [
    {
     "data": {
      "text/plain": [
       "Index(['Id', 'Province_State', 'Country', 'Date', 'Confirmed_Cases',\n",
       "       'Fatalities'],\n",
       "      dtype='object')"
      ]
     },
     "execution_count": 9,
     "metadata": {},
     "output_type": "execute_result"
    }
   ],
   "source": [
    "df2.columns"
   ]
  },
  {
   "cell_type": "code",
   "execution_count": 10,
   "metadata": {},
   "outputs": [
    {
     "data": {
      "text/plain": [
       "Id                     0\n",
       "Province_State     11830\n",
       "Country                0\n",
       "Date                   0\n",
       "Confirmed_Cases        0\n",
       "Fatalities             0\n",
       "dtype: int64"
      ]
     },
     "execution_count": 10,
     "metadata": {},
     "output_type": "execute_result"
    }
   ],
   "source": [
    "df2.isnull().sum()"
   ]
  },
  {
   "cell_type": "code",
   "execution_count": 11,
   "metadata": {},
   "outputs": [
    {
     "data": {
      "text/plain": [
       "<matplotlib.axes._subplots.AxesSubplot at 0x7f6194ae5780>"
      ]
     },
     "execution_count": 11,
     "metadata": {},
     "output_type": "execute_result"
    },
    {
     "data": {
      "image/png": "[encoded data removed]",
      "text/plain": [
       "<Figure size 432x288 with 2 Axes>"
      ]
     },
     "metadata": {},
     "output_type": "display_data"
    }
   ],
   "source": [
    "sns.heatmap(df2.isnull())"
   ]
  },
  {
   "cell_type": "code",
   "execution_count": 12,
   "metadata": {},
   "outputs": [],
   "source": [
    "df2.drop('Province_State', axis=1,inplace=True)"
   ]
  },
  {
   "cell_type": "code",
   "execution_count": 13,
   "metadata": {},
   "outputs": [
    {
     "data": {
      "text/html": [
       "<div>\n",
       "<style scoped>\n",
       "    .dataframe tbody tr th:only-of-type {\n",
       "        vertical-align: middle;\n",
       "    }\n",
       "\n",
       "    .dataframe tbody tr th {\n",
       "        vertical-align: top;\n",
       "    }\n",
       "\n",
       "    .dataframe thead th {\n",
       "        text-align: right;\n",
       "    }\n",
       "</style>\n",
       "<table border=\"1\" class=\"dataframe\">\n",
       "  <thead>\n",
       "    <tr style=\"text-align: right;\">\n",
       "      <th></th>\n",
       "      <th>Id</th>\n",
       "      <th>Country</th>\n",
       "      <th>Date</th>\n",
       "      <th>Confirmed_Cases</th>\n",
       "      <th>Fatalities</th>\n",
       "    </tr>\n",
       "  </thead>\n",
       "  <tbody>\n",
       "    <tr>\n",
       "      <td>0</td>\n",
       "      <td>1</td>\n",
       "      <td>Afghanistan</td>\n",
       "      <td>2020-01-22</td>\n",
       "      <td>0.0</td>\n",
       "      <td>0.0</td>\n",
       "    </tr>\n",
       "    <tr>\n",
       "      <td>1</td>\n",
       "      <td>2</td>\n",
       "      <td>Afghanistan</td>\n",
       "      <td>2020-01-23</td>\n",
       "      <td>0.0</td>\n",
       "      <td>0.0</td>\n",
       "    </tr>\n",
       "    <tr>\n",
       "      <td>2</td>\n",
       "      <td>3</td>\n",
       "      <td>Afghanistan</td>\n",
       "      <td>2020-01-24</td>\n",
       "      <td>0.0</td>\n",
       "      <td>0.0</td>\n",
       "    </tr>\n",
       "  </tbody>\n",
       "</table>\n",
       "</div>"
      ],
      "text/plain": [
       "   Id      Country        Date  Confirmed_Cases  Fatalities\n",
       "0   1  Afghanistan  2020-01-22              0.0         0.0\n",
       "1   2  Afghanistan  2020-01-23              0.0         0.0\n",
       "2   3  Afghanistan  2020-01-24              0.0         0.0"
      ]
     },
     "execution_count": 13,
     "metadata": {},
     "output_type": "execute_result"
    }
   ],
   "source": [
    "df2.head(3)"
   ]
  },
  {
   "cell_type": "code",
   "execution_count": 14,
   "metadata": {},
   "outputs": [
    {
     "data": {
      "text/plain": [
       "US                                  3780\n",
       "China                               2310\n",
       "Canada                               700\n",
       "France                               700\n",
       "Australia                            560\n",
       "United Kingdom                       490\n",
       "Netherlands                          280\n",
       "Denmark                              210\n",
       "Cyprus                                70\n",
       "Diamond Princess                      70\n",
       "Norway                                70\n",
       "Saint Vincent and the Grenadines      70\n",
       "Austria                               70\n",
       "Saint Lucia                           70\n",
       "Guinea-Bissau                         70\n",
       "Egypt                                 70\n",
       "Gambia                                70\n",
       "Philippines                           70\n",
       "Mauritius                             70\n",
       "Nepal                                 70\n",
       "Name: Country, dtype: int64"
      ]
     },
     "execution_count": 14,
     "metadata": {},
     "output_type": "execute_result"
    }
   ],
   "source": [
    "a=df2['Country'].value_counts()[:20]\n",
    "b=a.index\n",
    "a"
   ]
  },
  {
   "cell_type": "code",
   "execution_count": 15,
   "metadata": {},
   "outputs": [
    {
     "data": {
      "text/plain": [
       "Index(['US', 'China', 'Canada', 'France', 'Australia', 'United Kingdom',\n",
       "       'Netherlands', 'Denmark', 'Cyprus', 'Diamond Princess', 'Norway',\n",
       "       'Saint Vincent and the Grenadines', 'Austria', 'Saint Lucia',\n",
       "       'Guinea-Bissau', 'Egypt', 'Gambia', 'Philippines', 'Mauritius',\n",
       "       'Nepal'],\n",
       "      dtype='object')"
      ]
     },
     "execution_count": 15,
     "metadata": {},
     "output_type": "execute_result"
    }
   ],
   "source": [
    "b"
   ]
  },
  {
   "cell_type": "code",
   "execution_count": 16,
   "metadata": {},
   "outputs": [
    {
     "data": {
      "text/plain": [
       "list"
      ]
     },
     "execution_count": 16,
     "metadata": {},
     "output_type": "execute_result"
    }
   ],
   "source": [
    "covid_countries = list(b)\n",
    "type(covid_countries)"
   ]
  },
  {
   "cell_type": "code",
   "execution_count": 17,
   "metadata": {},
   "outputs": [],
   "source": [
    "# conf_us=df2.loc[df2['Country'] == 'Kenya', 'Confirmed_Cases'].groupby(['Date'])\n",
    "# death_us=df2.loc[df2['Country'] == 'Kenya', 'Fatalities'].sum()\n",
    "# print(conf_us)\n",
    "# print(death_us)"
   ]
  },
  {
   "cell_type": "code",
   "execution_count": 18,
   "metadata": {},
   "outputs": [],
   "source": [
    "d_lis=[]\n",
    "c_lis2=[]\n",
    "for i in covid_countries:\n",
    "    \n",
    "    conf_=df2.loc[df2['Country'] == i, 'Confirmed_Cases'].sum()\n",
    "    death_=df2.loc[df2['Country'] == i, 'Fatalities'].sum()\n",
    "    \n",
    "    d_lis.append(int(death_))\n",
    "    c_lis2.append(int(conf_))\n"
   ]
  },
  {
   "cell_type": "code",
   "execution_count": 19,
   "metadata": {},
   "outputs": [
    {
     "data": {
      "text/plain": [
       "[1082264,\n",
       " 4186795,\n",
       " 52048,\n",
       " 410812,\n",
       " 36148,\n",
       " 165706,\n",
       " 102018,\n",
       " 32727,\n",
       " 2089,\n",
       " 32044,\n",
       " 51471,\n",
       " 18,\n",
       " 84821,\n",
       " 66,\n",
       " 26,\n",
       " 7156,\n",
       " 35,\n",
       " 11535,\n",
       " 841,\n",
       " 92]"
      ]
     },
     "execution_count": 19,
     "metadata": {},
     "output_type": "execute_result"
    }
   ],
   "source": [
    "c_lis2"
   ]
  },
  {
   "cell_type": "code",
   "execution_count": null,
   "metadata": {},
   "outputs": [],
   "source": []
  },
  {
   "cell_type": "code",
   "execution_count": null,
   "metadata": {},
   "outputs": [],
   "source": []
  },
  {
   "cell_type": "code",
   "execution_count": 20,
   "metadata": {},
   "outputs": [
    {
     "data": {
      "text/plain": [
       "Text(0, 0.5, 'Total No. of cases of COVID-19')"
      ]
     },
     "execution_count": 20,
     "metadata": {},
     "output_type": "execute_result"
    },
    {
     "data": {
      "image/png": "[encoded data removed]",
      "text/plain": [
       "<Figure size 720x504 with 1 Axes>"
      ]
     },
     "metadata": {},
     "output_type": "display_data"
    }
   ],
   "source": [
    "plt.figure(figsize=(10,7))\n",
    "for i,v in enumerate(a):\n",
    "    plt.text(i,v,v, color='blue', fontweight='bold')\n",
    "sns.barplot(x=a.index,y=a,orient='v')\n",
    "plt.xticks(rotation=90,fontsize=12,)\n",
    "plt.title('Top 20 effected Countries',fontsize=20)\n",
    "plt.xlabel('Countries',fontsize=15)\n",
    "plt.ylabel('Total No. of cases of COVID-19',fontsize=14)"
   ]
  },
  {
   "cell_type": "code",
   "execution_count": 21,
   "metadata": {},
   "outputs": [
    {
     "data": {
      "text/html": [
       "<div>\n",
       "<style scoped>\n",
       "    .dataframe tbody tr th:only-of-type {\n",
       "        vertical-align: middle;\n",
       "    }\n",
       "\n",
       "    .dataframe tbody tr th {\n",
       "        vertical-align: top;\n",
       "    }\n",
       "\n",
       "    .dataframe thead th {\n",
       "        text-align: right;\n",
       "    }\n",
       "</style>\n",
       "<table border=\"1\" class=\"dataframe\">\n",
       "  <thead>\n",
       "    <tr style=\"text-align: right;\">\n",
       "      <th></th>\n",
       "      <th>Country</th>\n",
       "      <th>Cases</th>\n",
       "      <th>Casualties</th>\n",
       "      <th>Death</th>\n",
       "    </tr>\n",
       "  </thead>\n",
       "  <tbody>\n",
       "    <tr>\n",
       "      <td>0</td>\n",
       "      <td>US</td>\n",
       "      <td>3780</td>\n",
       "      <td>1082264</td>\n",
       "      <td>18071</td>\n",
       "    </tr>\n",
       "    <tr>\n",
       "      <td>1</td>\n",
       "      <td>China</td>\n",
       "      <td>2310</td>\n",
       "      <td>4186795</td>\n",
       "      <td>145794</td>\n",
       "    </tr>\n",
       "    <tr>\n",
       "      <td>2</td>\n",
       "      <td>France</td>\n",
       "      <td>700</td>\n",
       "      <td>52048</td>\n",
       "      <td>554</td>\n",
       "    </tr>\n",
       "    <tr>\n",
       "      <td>3</td>\n",
       "      <td>Canada</td>\n",
       "      <td>700</td>\n",
       "      <td>410812</td>\n",
       "      <td>21349</td>\n",
       "    </tr>\n",
       "    <tr>\n",
       "      <td>4</td>\n",
       "      <td>Australia</td>\n",
       "      <td>560</td>\n",
       "      <td>36148</td>\n",
       "      <td>190</td>\n",
       "    </tr>\n",
       "    <tr>\n",
       "      <td>5</td>\n",
       "      <td>United Kingdom</td>\n",
       "      <td>490</td>\n",
       "      <td>165706</td>\n",
       "      <td>9122</td>\n",
       "    </tr>\n",
       "    <tr>\n",
       "      <td>6</td>\n",
       "      <td>Netherlands</td>\n",
       "      <td>280</td>\n",
       "      <td>102018</td>\n",
       "      <td>5837</td>\n",
       "    </tr>\n",
       "    <tr>\n",
       "      <td>7</td>\n",
       "      <td>Denmark</td>\n",
       "      <td>210</td>\n",
       "      <td>32727</td>\n",
       "      <td>542</td>\n",
       "    </tr>\n",
       "    <tr>\n",
       "      <td>8</td>\n",
       "      <td>Armenia</td>\n",
       "      <td>70</td>\n",
       "      <td>2089</td>\n",
       "      <td>41</td>\n",
       "    </tr>\n",
       "    <tr>\n",
       "      <td>9</td>\n",
       "      <td>Monaco</td>\n",
       "      <td>70</td>\n",
       "      <td>32044</td>\n",
       "      <td>269</td>\n",
       "    </tr>\n",
       "    <tr>\n",
       "      <td>10</td>\n",
       "      <td>Cyprus</td>\n",
       "      <td>70</td>\n",
       "      <td>51471</td>\n",
       "      <td>234</td>\n",
       "    </tr>\n",
       "    <tr>\n",
       "      <td>11</td>\n",
       "      <td>Poland</td>\n",
       "      <td>70</td>\n",
       "      <td>18</td>\n",
       "      <td>0</td>\n",
       "    </tr>\n",
       "    <tr>\n",
       "      <td>12</td>\n",
       "      <td>Haiti</td>\n",
       "      <td>70</td>\n",
       "      <td>84821</td>\n",
       "      <td>626</td>\n",
       "    </tr>\n",
       "    <tr>\n",
       "      <td>13</td>\n",
       "      <td>Ecuador</td>\n",
       "      <td>70</td>\n",
       "      <td>66</td>\n",
       "      <td>0</td>\n",
       "    </tr>\n",
       "    <tr>\n",
       "      <td>14</td>\n",
       "      <td>Central African Republic</td>\n",
       "      <td>70</td>\n",
       "      <td>26</td>\n",
       "      <td>0</td>\n",
       "    </tr>\n",
       "    <tr>\n",
       "      <td>15</td>\n",
       "      <td>Oman</td>\n",
       "      <td>70</td>\n",
       "      <td>7156</td>\n",
       "      <td>338</td>\n",
       "    </tr>\n",
       "    <tr>\n",
       "      <td>16</td>\n",
       "      <td>Uganda</td>\n",
       "      <td>70</td>\n",
       "      <td>35</td>\n",
       "      <td>9</td>\n",
       "    </tr>\n",
       "    <tr>\n",
       "      <td>17</td>\n",
       "      <td>Austria</td>\n",
       "      <td>70</td>\n",
       "      <td>11535</td>\n",
       "      <td>697</td>\n",
       "    </tr>\n",
       "    <tr>\n",
       "      <td>18</td>\n",
       "      <td>Djibouti</td>\n",
       "      <td>70</td>\n",
       "      <td>841</td>\n",
       "      <td>26</td>\n",
       "    </tr>\n",
       "    <tr>\n",
       "      <td>19</td>\n",
       "      <td>El Salvador</td>\n",
       "      <td>70</td>\n",
       "      <td>92</td>\n",
       "      <td>0</td>\n",
       "    </tr>\n",
       "  </tbody>\n",
       "</table>\n",
       "</div>"
      ],
      "text/plain": [
       "                     Country  Cases  Casualties   Death\n",
       "0                         US   3780     1082264   18071\n",
       "1                      China   2310     4186795  145794\n",
       "2                     France    700       52048     554\n",
       "3                     Canada    700      410812   21349\n",
       "4                  Australia    560       36148     190\n",
       "5             United Kingdom    490      165706    9122\n",
       "6                Netherlands    280      102018    5837\n",
       "7                    Denmark    210       32727     542\n",
       "8                    Armenia     70        2089      41\n",
       "9                     Monaco     70       32044     269\n",
       "10                    Cyprus     70       51471     234\n",
       "11                    Poland     70          18       0\n",
       "12                     Haiti     70       84821     626\n",
       "13                   Ecuador     70          66       0\n",
       "14  Central African Republic     70          26       0\n",
       "15                      Oman     70        7156     338\n",
       "16                    Uganda     70          35       9\n",
       "17                   Austria     70       11535     697\n",
       "18                  Djibouti     70         841      26\n",
       "19               El Salvador     70          92       0"
      ]
     },
     "execution_count": 21,
     "metadata": {},
     "output_type": "execute_result"
    }
   ],
   "source": [
    "data = {'Country':['US', 'China', 'France', 'Canada', 'Australia', 'United Kingdom',\n",
    "       'Netherlands', 'Denmark', 'Armenia', 'Monaco', 'Cyprus', 'Poland',\n",
    "       'Haiti', 'Ecuador', 'Central African Republic', 'Oman', 'Uganda',\n",
    "       'Austria', 'Djibouti', 'El Salvador'], 'Cases':[3780,2310,700,700,560,490,280,210,70,70,70,70,70,70,70,70,70,70,70,70],\n",
    "        'Casualties':c_lis2, 'Death':d_lis}\n",
    "df = pd.DataFrame(data)\n",
    "df"
   ]
  },
  {
   "cell_type": "code",
   "execution_count": 22,
   "metadata": {},
   "outputs": [
    {
     "data": {
      "text/plain": [
       "Index(['Country', 'Cases', 'Casualties', 'Death'], dtype='object')"
      ]
     },
     "execution_count": 22,
     "metadata": {},
     "output_type": "execute_result"
    }
   ],
   "source": [
    "df.columns"
   ]
  },
  {
   "cell_type": "code",
   "execution_count": 23,
   "metadata": {},
   "outputs": [],
   "source": [
    "x = df[['Casualties', 'Death']]"
   ]
  },
  {
   "cell_type": "code",
   "execution_count": 24,
   "metadata": {},
   "outputs": [
    {
     "data": {
      "text/plain": [
       "<matplotlib.axes._subplots.AxesSubplot at 0x7f61941d6908>"
      ]
     },
     "execution_count": 24,
     "metadata": {},
     "output_type": "execute_result"
    },
    {
     "data": {
      "image/png": "[encoded data removed]",
      "text/plain": [
       "<Figure size 432x288 with 1 Axes>"
      ]
     },
     "metadata": {},
     "output_type": "display_data"
    }
   ],
   "source": [
    "x.plot()"
   ]
  },
  {
   "cell_type": "code",
   "execution_count": 25,
   "metadata": {},
   "outputs": [
    {
     "data": {
      "text/plain": [
       "(array([ 0,  1,  2,  3,  4,  5,  6,  7,  8,  9, 10, 11, 12, 13, 14, 15, 16,\n",
       "        17, 18, 19]), <a list of 20 Text xticklabel objects>)"
      ]
     },
     "execution_count": 25,
     "metadata": {},
     "output_type": "execute_result"
    },
    {
     "data": {
      "text/plain": [
       "<Figure size 720x504 with 0 Axes>"
      ]
     },
     "metadata": {},
     "output_type": "display_data"
    },
    {
     "data": {
      "image/png": "[encoded data removed]",
      "text/plain": [
       "<Figure size 432x288 with 1 Axes>"
      ]
     },
     "metadata": {},
     "output_type": "display_data"
    }
   ],
   "source": [
    "plt.figure(figsize=(10,7))\n",
    "ax = df.plot(x='Country',y='Cases', kind='bar', color='black')\n",
    "df.plot(x=\"Country\", y=\"Death\", kind=\"bar\", ax=ax, color='r' )\n",
    "df.plot(x=\"Country\", y=\"Casualties\", kind=\"bar\", ax=ax, color='g')\n",
    "plt.xticks(rotation=90,fontsize=12)"
   ]
  },
  {
   "cell_type": "code",
   "execution_count": 26,
   "metadata": {},
   "outputs": [
    {
     "data": {
      "text/plain": [
       "<Figure size 720x504 with 0 Axes>"
      ]
     },
     "metadata": {},
     "output_type": "display_data"
    },
    {
     "data": {
      "image/png": "[encoded data removed]",
      "text/plain": [
       "<Figure size 432x288 with 1 Axes>"
      ]
     },
     "metadata": {},
     "output_type": "display_data"
    }
   ],
   "source": [
    "plt.figure(figsize=(10,7))\n",
    "ax = df.plot(x='Country',y=['Casualties','Death'], kind='bar',width=1)"
   ]
  },
  {
   "cell_type": "code",
   "execution_count": 27,
   "metadata": {},
   "outputs": [
    {
     "data": {
      "text/html": [
       "<div>\n",
       "<style scoped>\n",
       "    .dataframe tbody tr th:only-of-type {\n",
       "        vertical-align: middle;\n",
       "    }\n",
       "\n",
       "    .dataframe tbody tr th {\n",
       "        vertical-align: top;\n",
       "    }\n",
       "\n",
       "    .dataframe thead th {\n",
       "        text-align: right;\n",
       "    }\n",
       "</style>\n",
       "<table border=\"1\" class=\"dataframe\">\n",
       "  <thead>\n",
       "    <tr style=\"text-align: right;\">\n",
       "      <th></th>\n",
       "      <th>Country</th>\n",
       "      <th>Cases</th>\n",
       "      <th>Casualties</th>\n",
       "      <th>Death</th>\n",
       "    </tr>\n",
       "  </thead>\n",
       "  <tbody>\n",
       "    <tr>\n",
       "      <td>0</td>\n",
       "      <td>US</td>\n",
       "      <td>3780</td>\n",
       "      <td>1082264</td>\n",
       "      <td>18071</td>\n",
       "    </tr>\n",
       "    <tr>\n",
       "      <td>1</td>\n",
       "      <td>China</td>\n",
       "      <td>2310</td>\n",
       "      <td>4186795</td>\n",
       "      <td>145794</td>\n",
       "    </tr>\n",
       "    <tr>\n",
       "      <td>2</td>\n",
       "      <td>France</td>\n",
       "      <td>700</td>\n",
       "      <td>52048</td>\n",
       "      <td>554</td>\n",
       "    </tr>\n",
       "    <tr>\n",
       "      <td>3</td>\n",
       "      <td>Canada</td>\n",
       "      <td>700</td>\n",
       "      <td>410812</td>\n",
       "      <td>21349</td>\n",
       "    </tr>\n",
       "    <tr>\n",
       "      <td>4</td>\n",
       "      <td>Australia</td>\n",
       "      <td>560</td>\n",
       "      <td>36148</td>\n",
       "      <td>190</td>\n",
       "    </tr>\n",
       "    <tr>\n",
       "      <td>5</td>\n",
       "      <td>United Kingdom</td>\n",
       "      <td>490</td>\n",
       "      <td>165706</td>\n",
       "      <td>9122</td>\n",
       "    </tr>\n",
       "    <tr>\n",
       "      <td>6</td>\n",
       "      <td>Netherlands</td>\n",
       "      <td>280</td>\n",
       "      <td>102018</td>\n",
       "      <td>5837</td>\n",
       "    </tr>\n",
       "    <tr>\n",
       "      <td>7</td>\n",
       "      <td>Denmark</td>\n",
       "      <td>210</td>\n",
       "      <td>32727</td>\n",
       "      <td>542</td>\n",
       "    </tr>\n",
       "    <tr>\n",
       "      <td>8</td>\n",
       "      <td>Armenia</td>\n",
       "      <td>70</td>\n",
       "      <td>2089</td>\n",
       "      <td>41</td>\n",
       "    </tr>\n",
       "    <tr>\n",
       "      <td>9</td>\n",
       "      <td>Monaco</td>\n",
       "      <td>70</td>\n",
       "      <td>32044</td>\n",
       "      <td>269</td>\n",
       "    </tr>\n",
       "    <tr>\n",
       "      <td>10</td>\n",
       "      <td>Cyprus</td>\n",
       "      <td>70</td>\n",
       "      <td>51471</td>\n",
       "      <td>234</td>\n",
       "    </tr>\n",
       "    <tr>\n",
       "      <td>11</td>\n",
       "      <td>Poland</td>\n",
       "      <td>70</td>\n",
       "      <td>18</td>\n",
       "      <td>0</td>\n",
       "    </tr>\n",
       "    <tr>\n",
       "      <td>12</td>\n",
       "      <td>Haiti</td>\n",
       "      <td>70</td>\n",
       "      <td>84821</td>\n",
       "      <td>626</td>\n",
       "    </tr>\n",
       "    <tr>\n",
       "      <td>13</td>\n",
       "      <td>Ecuador</td>\n",
       "      <td>70</td>\n",
       "      <td>66</td>\n",
       "      <td>0</td>\n",
       "    </tr>\n",
       "    <tr>\n",
       "      <td>14</td>\n",
       "      <td>Central African Republic</td>\n",
       "      <td>70</td>\n",
       "      <td>26</td>\n",
       "      <td>0</td>\n",
       "    </tr>\n",
       "    <tr>\n",
       "      <td>15</td>\n",
       "      <td>Oman</td>\n",
       "      <td>70</td>\n",
       "      <td>7156</td>\n",
       "      <td>338</td>\n",
       "    </tr>\n",
       "    <tr>\n",
       "      <td>16</td>\n",
       "      <td>Uganda</td>\n",
       "      <td>70</td>\n",
       "      <td>35</td>\n",
       "      <td>9</td>\n",
       "    </tr>\n",
       "    <tr>\n",
       "      <td>17</td>\n",
       "      <td>Austria</td>\n",
       "      <td>70</td>\n",
       "      <td>11535</td>\n",
       "      <td>697</td>\n",
       "    </tr>\n",
       "    <tr>\n",
       "      <td>18</td>\n",
       "      <td>Djibouti</td>\n",
       "      <td>70</td>\n",
       "      <td>841</td>\n",
       "      <td>26</td>\n",
       "    </tr>\n",
       "    <tr>\n",
       "      <td>19</td>\n",
       "      <td>El Salvador</td>\n",
       "      <td>70</td>\n",
       "      <td>92</td>\n",
       "      <td>0</td>\n",
       "    </tr>\n",
       "  </tbody>\n",
       "</table>\n",
       "</div>"
      ],
      "text/plain": [
       "                     Country  Cases  Casualties   Death\n",
       "0                         US   3780     1082264   18071\n",
       "1                      China   2310     4186795  145794\n",
       "2                     France    700       52048     554\n",
       "3                     Canada    700      410812   21349\n",
       "4                  Australia    560       36148     190\n",
       "5             United Kingdom    490      165706    9122\n",
       "6                Netherlands    280      102018    5837\n",
       "7                    Denmark    210       32727     542\n",
       "8                    Armenia     70        2089      41\n",
       "9                     Monaco     70       32044     269\n",
       "10                    Cyprus     70       51471     234\n",
       "11                    Poland     70          18       0\n",
       "12                     Haiti     70       84821     626\n",
       "13                   Ecuador     70          66       0\n",
       "14  Central African Republic     70          26       0\n",
       "15                      Oman     70        7156     338\n",
       "16                    Uganda     70          35       9\n",
       "17                   Austria     70       11535     697\n",
       "18                  Djibouti     70         841      26\n",
       "19               El Salvador     70          92       0"
      ]
     },
     "execution_count": 27,
     "metadata": {},
     "output_type": "execute_result"
    }
   ],
   "source": [
    "df"
   ]
  },
  {
   "cell_type": "code",
   "execution_count": 28,
   "metadata": {},
   "outputs": [
    {
     "data": {
      "text/html": [
       "<div>\n",
       "<style scoped>\n",
       "    .dataframe tbody tr th:only-of-type {\n",
       "        vertical-align: middle;\n",
       "    }\n",
       "\n",
       "    .dataframe tbody tr th {\n",
       "        vertical-align: top;\n",
       "    }\n",
       "\n",
       "    .dataframe thead th {\n",
       "        text-align: right;\n",
       "    }\n",
       "</style>\n",
       "<table border=\"1\" class=\"dataframe\">\n",
       "  <thead>\n",
       "    <tr style=\"text-align: right;\">\n",
       "      <th></th>\n",
       "      <th>Id</th>\n",
       "      <th>Country</th>\n",
       "      <th>Date</th>\n",
       "      <th>Confirmed_Cases</th>\n",
       "      <th>Fatalities</th>\n",
       "    </tr>\n",
       "  </thead>\n",
       "  <tbody>\n",
       "    <tr>\n",
       "      <td>0</td>\n",
       "      <td>1</td>\n",
       "      <td>Afghanistan</td>\n",
       "      <td>2020-01-22</td>\n",
       "      <td>0.0</td>\n",
       "      <td>0.0</td>\n",
       "    </tr>\n",
       "    <tr>\n",
       "      <td>1</td>\n",
       "      <td>2</td>\n",
       "      <td>Afghanistan</td>\n",
       "      <td>2020-01-23</td>\n",
       "      <td>0.0</td>\n",
       "      <td>0.0</td>\n",
       "    </tr>\n",
       "    <tr>\n",
       "      <td>2</td>\n",
       "      <td>3</td>\n",
       "      <td>Afghanistan</td>\n",
       "      <td>2020-01-24</td>\n",
       "      <td>0.0</td>\n",
       "      <td>0.0</td>\n",
       "    </tr>\n",
       "    <tr>\n",
       "      <td>3</td>\n",
       "      <td>4</td>\n",
       "      <td>Afghanistan</td>\n",
       "      <td>2020-01-25</td>\n",
       "      <td>0.0</td>\n",
       "      <td>0.0</td>\n",
       "    </tr>\n",
       "    <tr>\n",
       "      <td>4</td>\n",
       "      <td>5</td>\n",
       "      <td>Afghanistan</td>\n",
       "      <td>2020-01-26</td>\n",
       "      <td>0.0</td>\n",
       "      <td>0.0</td>\n",
       "    </tr>\n",
       "  </tbody>\n",
       "</table>\n",
       "</div>"
      ],
      "text/plain": [
       "   Id      Country        Date  Confirmed_Cases  Fatalities\n",
       "0   1  Afghanistan  2020-01-22              0.0         0.0\n",
       "1   2  Afghanistan  2020-01-23              0.0         0.0\n",
       "2   3  Afghanistan  2020-01-24              0.0         0.0\n",
       "3   4  Afghanistan  2020-01-25              0.0         0.0\n",
       "4   5  Afghanistan  2020-01-26              0.0         0.0"
      ]
     },
     "execution_count": 28,
     "metadata": {},
     "output_type": "execute_result"
    }
   ],
   "source": [
    "df2.head()"
   ]
  },
  {
   "cell_type": "markdown",
   "metadata": {},
   "source": [
    "# Country wise confirmed and Fatalities/Death cases plotting"
   ]
  },
  {
   "cell_type": "code",
   "execution_count": 29,
   "metadata": {},
   "outputs": [
    {
     "data": {
      "text/plain": [
       "<matplotlib.axes._subplots.AxesSubplot at 0x7f61878daf28>"
      ]
     },
     "execution_count": 29,
     "metadata": {},
     "output_type": "execute_result"
    },
    {
     "data": {
      "image/png": "[encoded data removed]",
      "text/plain": [
       "<Figure size 1080x720 with 4 Axes>"
      ]
     },
     "metadata": {},
     "output_type": "display_data"
    }
   ],
   "source": [
    "#US\n",
    "ConfirmedCases_date_US = df2[df2['Country']=='US'].groupby(['Date']).agg({'Confirmed_Cases':['sum']})\n",
    "fatalities_date_US = df2[df2['Country']=='US'].groupby(['Date']).agg({'Fatalities':['sum']})\n",
    "total_date_US = ConfirmedCases_date_US.join(fatalities_date_US)\n",
    "\n",
    "\n",
    "#China\n",
    "ConfirmedCases_date_China = df2[df2['Country']=='China'].groupby(['Date']).agg({'Confirmed_Cases':['sum']})\n",
    "fatalities_date_China = df2[df2['Country']=='China'].groupby(['Date']).agg({'Fatalities':['sum']})\n",
    "total_date_China = ConfirmedCases_date_China.join(fatalities_date_China)\n",
    "\n",
    "#France\n",
    "ConfirmedCases_date_France = df2[df2['Country']=='France'].groupby(['Date']).agg({'Confirmed_Cases':['sum']})\n",
    "fatalities_date_France = df2[df2['Country']=='France'].groupby(['Date']).agg({'Fatalities':['sum']})\n",
    "total_date_France = ConfirmedCases_date_France.join(fatalities_date_France)\n",
    "#Australia\n",
    "ConfirmedCases_date_Australia = df2[df2['Country']=='Australia'].groupby(['Date']).agg({'Confirmed_Cases':['sum']})\n",
    "fatalities_date_Australia = df2[df2['Country']=='Australia'].groupby(['Date']).agg({'Fatalities':['sum']})\n",
    "total_date_Australia = ConfirmedCases_date_Australia.join(fatalities_date_Australia)\n",
    "\n",
    "\n",
    "\n",
    "plt.figure(figsize=(15,10))\n",
    "plt.subplot(2, 2, 1)\n",
    "total_date_US.plot(ax=plt.gca(), title='US')\n",
    "plt.ylabel(\"Confirmed  cases\", size=13)\n",
    "\n",
    "plt.subplot(2, 2, 2)\n",
    "total_date_China.plot(ax=plt.gca(), title='China')\n",
    "\n",
    "plt.subplot(2, 2, 3)\n",
    "total_date_France.plot(ax=plt.gca(), title='France')\n",
    "plt.ylabel(\"Confirmed cases\", size=13)\n",
    "\n",
    "plt.subplot(2, 2, 4)\n",
    "total_date_Australia.plot(ax=plt.gca(), title='Australia')"
   ]
  },
  {
   "cell_type": "code",
   "execution_count": 30,
   "metadata": {},
   "outputs": [
    {
     "data": {
      "text/plain": [
       "<matplotlib.axes._subplots.AxesSubplot at 0x7f6187458550>"
      ]
     },
     "execution_count": 30,
     "metadata": {},
     "output_type": "execute_result"
    },
    {
     "data": {
      "image/png": "[encoded data removed]",
      "text/plain": [
       "<Figure size 1080x720 with 4 Axes>"
      ]
     },
     "metadata": {},
     "output_type": "display_data"
    }
   ],
   "source": [
    "#Canada\n",
    "ConfirmedCases_date_Canada = df2[df2['Country']=='Canada'].groupby(['Date']).agg({'Confirmed_Cases':['sum']})\n",
    "fatalities_date_Canada = df2[df2['Country']=='Canada'].groupby(['Date']).agg({'Fatalities':['sum']})\n",
    "total_date_Canada = ConfirmedCases_date_Canada.join(fatalities_date_Canada)\n",
    "\n",
    "\n",
    "#Netherlands\n",
    "ConfirmedCases_date_Netherlands = df2[df2['Country']=='Netherlands'].groupby(['Date']).agg({'Confirmed_Cases':['sum']})\n",
    "fatalities_date_Netherlands = df2[df2['Country']=='Netherlands'].groupby(['Date']).agg({'Fatalities':['sum']})\n",
    "total_date_Netherlands = ConfirmedCases_date_Netherlands.join(fatalities_date_Netherlands)\n",
    "\n",
    "#Denmark\n",
    "ConfirmedCases_date_Denmark = df2[df2['Country']=='Denmark'].groupby(['Date']).agg({'Confirmed_Cases':['sum']})\n",
    "fatalities_date_Denmark = df2[df2['Country']=='Denmark'].groupby(['Date']).agg({'Fatalities':['sum']})\n",
    "total_date_Denmark = ConfirmedCases_date_Denmark.join(fatalities_date_Denmark)\n",
    "#Australia\n",
    "ConfirmedCases_date_Cyprus = df2[df2['Country']=='Cyprus'].groupby(['Date']).agg({'Confirmed_Cases':['sum']})\n",
    "fatalities_date_Cyprus = df2[df2['Country']=='Cyprus'].groupby(['Date']).agg({'Fatalities':['sum']})\n",
    "total_date_Cyprus = ConfirmedCases_date_Cyprus.join(fatalities_date_Cyprus)\n",
    "\n",
    "\n",
    "\n",
    "plt.figure(figsize=(15,10))\n",
    "plt.subplot(2, 2, 1)\n",
    "total_date_Canada.plot(ax=plt.gca(), title='Canada')\n",
    "plt.ylabel(\"Confirmed  cases\", size=13)\n",
    "\n",
    "plt.subplot(2, 2, 2)\n",
    "total_date_Netherlands.plot(ax=plt.gca(), title='Netherlands')\n",
    "\n",
    "plt.subplot(2, 2, 3)\n",
    "total_date_Denmark.plot(ax=plt.gca(), title='Denmark')\n",
    "plt.ylabel(\"Confirmed cases\", size=13)\n",
    "\n",
    "plt.subplot(2, 2, 4)\n",
    "total_date_Cyprus.plot(ax=plt.gca(), title='Cyprus')"
   ]
  },
  {
   "cell_type": "code",
   "execution_count": 31,
   "metadata": {},
   "outputs": [
    {
     "name": "stderr",
     "output_type": "stream",
     "text": [
      "/usr/lib/python3/dist-packages/ipykernel_launcher.py:5: FutureWarning: `Series.plot()` should not be called with positional arguments, only keyword arguments. The order of positional arguments will change in the future. Use `Series.plot(kind='bar')` instead of `Series.plot('bar',)`.\n",
      "  \"\"\"\n"
     ]
    },
    {
     "data": {
      "image/png": "[encoded data removed]",
      "text/plain": [
       "<Figure size 1152x576 with 1 Axes>"
      ]
     },
     "metadata": {},
     "output_type": "display_data"
    }
   ],
   "source": [
    "fig = plt.figure(figsize=(16,8))\n",
    "ax = fig.add_subplot(111)\n",
    "df2.groupby('Country').mean().sort_values(by='Confirmed_Cases',\n",
    "        ascending=False)['Confirmed_Cases'].plot('bar', color='r',width=0.3,title='Country Region Confirmed Cases',\n",
    "                                                                                    fontsize=10)\n",
    "plt.xticks(rotation = 90, fontsize=6)\n",
    "plt.ylabel('Confirmed Cases')\n",
    "ax.title.set_fontsize(30)\n",
    "ax.xaxis.label.set_fontsize(10)\n",
    "ax.yaxis.label.set_fontsize(10)"
   ]
  },
  {
   "cell_type": "code",
   "execution_count": 32,
   "metadata": {},
   "outputs": [
    {
     "data": {
      "text/plain": [
       "pandas.core.frame.DataFrame"
      ]
     },
     "execution_count": 32,
     "metadata": {},
     "output_type": "execute_result"
    }
   ],
   "source": [
    "type(df2)"
   ]
  },
  {
   "cell_type": "code",
   "execution_count": 33,
   "metadata": {},
   "outputs": [],
   "source": [
    "for i in covid_countries:\n",
    "    ConfirmedCases_date = df2.groupby(['Country','Date']).agg({'Confirmed_Cases':['sum']})\n",
    "    df_generated_through_loop= pd.DataFrame(ConfirmedCases_date).set_index(pd.Index(range(len(ConfirmedCases_date))))"
   ]
  },
  {
   "cell_type": "code",
   "execution_count": 34,
   "metadata": {},
   "outputs": [
    {
     "data": {
      "text/html": [
       "<div>\n",
       "<style scoped>\n",
       "    .dataframe tbody tr th:only-of-type {\n",
       "        vertical-align: middle;\n",
       "    }\n",
       "\n",
       "    .dataframe tbody tr th {\n",
       "        vertical-align: top;\n",
       "    }\n",
       "\n",
       "    .dataframe thead tr th {\n",
       "        text-align: left;\n",
       "    }\n",
       "</style>\n",
       "<table border=\"1\" class=\"dataframe\">\n",
       "  <thead>\n",
       "    <tr>\n",
       "      <th></th>\n",
       "      <th>Confirmed_Cases</th>\n",
       "    </tr>\n",
       "    <tr>\n",
       "      <th></th>\n",
       "      <th>sum</th>\n",
       "    </tr>\n",
       "  </thead>\n",
       "  <tbody>\n",
       "    <tr>\n",
       "      <td>0</td>\n",
       "      <td>0.0</td>\n",
       "    </tr>\n",
       "    <tr>\n",
       "      <td>1</td>\n",
       "      <td>0.0</td>\n",
       "    </tr>\n",
       "    <tr>\n",
       "      <td>2</td>\n",
       "      <td>0.0</td>\n",
       "    </tr>\n",
       "    <tr>\n",
       "      <td>3</td>\n",
       "      <td>0.0</td>\n",
       "    </tr>\n",
       "    <tr>\n",
       "      <td>4</td>\n",
       "      <td>0.0</td>\n",
       "    </tr>\n",
       "    <tr>\n",
       "      <td>...</td>\n",
       "      <td>...</td>\n",
       "    </tr>\n",
       "    <tr>\n",
       "      <td>12105</td>\n",
       "      <td>5.0</td>\n",
       "    </tr>\n",
       "    <tr>\n",
       "      <td>12106</td>\n",
       "      <td>7.0</td>\n",
       "    </tr>\n",
       "    <tr>\n",
       "      <td>12107</td>\n",
       "      <td>7.0</td>\n",
       "    </tr>\n",
       "    <tr>\n",
       "      <td>12108</td>\n",
       "      <td>7.0</td>\n",
       "    </tr>\n",
       "    <tr>\n",
       "      <td>12109</td>\n",
       "      <td>8.0</td>\n",
       "    </tr>\n",
       "  </tbody>\n",
       "</table>\n",
       "<p>12110 rows × 1 columns</p>\n",
       "</div>"
      ],
      "text/plain": [
       "      Confirmed_Cases\n",
       "                  sum\n",
       "0                 0.0\n",
       "1                 0.0\n",
       "2                 0.0\n",
       "3                 0.0\n",
       "4                 0.0\n",
       "...               ...\n",
       "12105             5.0\n",
       "12106             7.0\n",
       "12107             7.0\n",
       "12108             7.0\n",
       "12109             8.0\n",
       "\n",
       "[12110 rows x 1 columns]"
      ]
     },
     "execution_count": 34,
     "metadata": {},
     "output_type": "execute_result"
    }
   ],
   "source": [
    "df_generated_through_loop"
   ]
  },
  {
   "cell_type": "code",
   "execution_count": 35,
   "metadata": {
    "scrolled": true
   },
   "outputs": [
    {
     "name": "stdout",
     "output_type": "stream",
     "text": [
      "12110\n"
     ]
    }
   ],
   "source": [
    "print(len(ConfirmedCases_date))"
   ]
  },
  {
   "cell_type": "code",
   "execution_count": 36,
   "metadata": {},
   "outputs": [],
   "source": [
    "df3=df2"
   ]
  },
  {
   "cell_type": "code",
   "execution_count": 37,
   "metadata": {
    "scrolled": true
   },
   "outputs": [
    {
     "data": {
      "text/html": [
       "<div>\n",
       "<style scoped>\n",
       "    .dataframe tbody tr th:only-of-type {\n",
       "        vertical-align: middle;\n",
       "    }\n",
       "\n",
       "    .dataframe tbody tr th {\n",
       "        vertical-align: top;\n",
       "    }\n",
       "\n",
       "    .dataframe thead th {\n",
       "        text-align: right;\n",
       "    }\n",
       "</style>\n",
       "<table border=\"1\" class=\"dataframe\">\n",
       "  <thead>\n",
       "    <tr style=\"text-align: right;\">\n",
       "      <th></th>\n",
       "      <th>Id</th>\n",
       "      <th>Country</th>\n",
       "      <th>Date</th>\n",
       "      <th>Confirmed_Cases</th>\n",
       "      <th>Fatalities</th>\n",
       "    </tr>\n",
       "  </thead>\n",
       "  <tbody>\n",
       "    <tr>\n",
       "      <td>0</td>\n",
       "      <td>1</td>\n",
       "      <td>Afghanistan</td>\n",
       "      <td>2020-01-22</td>\n",
       "      <td>0.0</td>\n",
       "      <td>0.0</td>\n",
       "    </tr>\n",
       "    <tr>\n",
       "      <td>1</td>\n",
       "      <td>2</td>\n",
       "      <td>Afghanistan</td>\n",
       "      <td>2020-01-23</td>\n",
       "      <td>0.0</td>\n",
       "      <td>0.0</td>\n",
       "    </tr>\n",
       "    <tr>\n",
       "      <td>2</td>\n",
       "      <td>3</td>\n",
       "      <td>Afghanistan</td>\n",
       "      <td>2020-01-24</td>\n",
       "      <td>0.0</td>\n",
       "      <td>0.0</td>\n",
       "    </tr>\n",
       "    <tr>\n",
       "      <td>3</td>\n",
       "      <td>4</td>\n",
       "      <td>Afghanistan</td>\n",
       "      <td>2020-01-25</td>\n",
       "      <td>0.0</td>\n",
       "      <td>0.0</td>\n",
       "    </tr>\n",
       "    <tr>\n",
       "      <td>4</td>\n",
       "      <td>5</td>\n",
       "      <td>Afghanistan</td>\n",
       "      <td>2020-01-26</td>\n",
       "      <td>0.0</td>\n",
       "      <td>0.0</td>\n",
       "    </tr>\n",
       "    <tr>\n",
       "      <td>...</td>\n",
       "      <td>...</td>\n",
       "      <td>...</td>\n",
       "      <td>...</td>\n",
       "      <td>...</td>\n",
       "      <td>...</td>\n",
       "    </tr>\n",
       "    <tr>\n",
       "      <td>20575</td>\n",
       "      <td>29366</td>\n",
       "      <td>Zimbabwe</td>\n",
       "      <td>2020-03-27</td>\n",
       "      <td>5.0</td>\n",
       "      <td>1.0</td>\n",
       "    </tr>\n",
       "    <tr>\n",
       "      <td>20576</td>\n",
       "      <td>29367</td>\n",
       "      <td>Zimbabwe</td>\n",
       "      <td>2020-03-28</td>\n",
       "      <td>7.0</td>\n",
       "      <td>1.0</td>\n",
       "    </tr>\n",
       "    <tr>\n",
       "      <td>20577</td>\n",
       "      <td>29368</td>\n",
       "      <td>Zimbabwe</td>\n",
       "      <td>2020-03-29</td>\n",
       "      <td>7.0</td>\n",
       "      <td>1.0</td>\n",
       "    </tr>\n",
       "    <tr>\n",
       "      <td>20578</td>\n",
       "      <td>29369</td>\n",
       "      <td>Zimbabwe</td>\n",
       "      <td>2020-03-30</td>\n",
       "      <td>7.0</td>\n",
       "      <td>1.0</td>\n",
       "    </tr>\n",
       "    <tr>\n",
       "      <td>20579</td>\n",
       "      <td>29370</td>\n",
       "      <td>Zimbabwe</td>\n",
       "      <td>2020-03-31</td>\n",
       "      <td>8.0</td>\n",
       "      <td>1.0</td>\n",
       "    </tr>\n",
       "  </tbody>\n",
       "</table>\n",
       "<p>20580 rows × 5 columns</p>\n",
       "</div>"
      ],
      "text/plain": [
       "          Id      Country        Date  Confirmed_Cases  Fatalities\n",
       "0          1  Afghanistan  2020-01-22              0.0         0.0\n",
       "1          2  Afghanistan  2020-01-23              0.0         0.0\n",
       "2          3  Afghanistan  2020-01-24              0.0         0.0\n",
       "3          4  Afghanistan  2020-01-25              0.0         0.0\n",
       "4          5  Afghanistan  2020-01-26              0.0         0.0\n",
       "...      ...          ...         ...              ...         ...\n",
       "20575  29366     Zimbabwe  2020-03-27              5.0         1.0\n",
       "20576  29367     Zimbabwe  2020-03-28              7.0         1.0\n",
       "20577  29368     Zimbabwe  2020-03-29              7.0         1.0\n",
       "20578  29369     Zimbabwe  2020-03-30              7.0         1.0\n",
       "20579  29370     Zimbabwe  2020-03-31              8.0         1.0\n",
       "\n",
       "[20580 rows x 5 columns]"
      ]
     },
     "execution_count": 37,
     "metadata": {},
     "output_type": "execute_result"
    }
   ],
   "source": [
    "df3"
   ]
  },
  {
   "cell_type": "code",
   "execution_count": 38,
   "metadata": {},
   "outputs": [
    {
     "data": {
      "text/plain": [
       "Index(['Id', 'Country', 'Date', 'Confirmed_Cases', 'Fatalities'], dtype='object')"
      ]
     },
     "execution_count": 38,
     "metadata": {},
     "output_type": "execute_result"
    }
   ],
   "source": [
    "df3.columns"
   ]
  },
  {
   "cell_type": "code",
   "execution_count": 39,
   "metadata": {},
   "outputs": [],
   "source": [
    "df4 = df3.groupby(['Country','Date']).sum()"
   ]
  },
  {
   "cell_type": "code",
   "execution_count": 40,
   "metadata": {},
   "outputs": [],
   "source": [
    "df4 = df4.reset_index()"
   ]
  },
  {
   "cell_type": "code",
   "execution_count": 43,
   "metadata": {},
   "outputs": [
    {
     "data": {
      "text/html": [
       "<div>\n",
       "<style scoped>\n",
       "    .dataframe tbody tr th:only-of-type {\n",
       "        vertical-align: middle;\n",
       "    }\n",
       "\n",
       "    .dataframe tbody tr th {\n",
       "        vertical-align: top;\n",
       "    }\n",
       "\n",
       "    .dataframe thead th {\n",
       "        text-align: right;\n",
       "    }\n",
       "</style>\n",
       "<table border=\"1\" class=\"dataframe\">\n",
       "  <thead>\n",
       "    <tr style=\"text-align: right;\">\n",
       "      <th></th>\n",
       "      <th>Country</th>\n",
       "      <th>Date</th>\n",
       "      <th>Id</th>\n",
       "      <th>Confirmed_Cases</th>\n",
       "      <th>Fatalities</th>\n",
       "    </tr>\n",
       "  </thead>\n",
       "  <tbody>\n",
       "    <tr>\n",
       "      <td>0</td>\n",
       "      <td>Afghanistan</td>\n",
       "      <td>2020-01-22</td>\n",
       "      <td>1</td>\n",
       "      <td>0.0</td>\n",
       "      <td>0.0</td>\n",
       "    </tr>\n",
       "    <tr>\n",
       "      <td>1</td>\n",
       "      <td>Afghanistan</td>\n",
       "      <td>2020-01-23</td>\n",
       "      <td>2</td>\n",
       "      <td>0.0</td>\n",
       "      <td>0.0</td>\n",
       "    </tr>\n",
       "    <tr>\n",
       "      <td>2</td>\n",
       "      <td>Afghanistan</td>\n",
       "      <td>2020-01-24</td>\n",
       "      <td>3</td>\n",
       "      <td>0.0</td>\n",
       "      <td>0.0</td>\n",
       "    </tr>\n",
       "    <tr>\n",
       "      <td>3</td>\n",
       "      <td>Afghanistan</td>\n",
       "      <td>2020-01-25</td>\n",
       "      <td>4</td>\n",
       "      <td>0.0</td>\n",
       "      <td>0.0</td>\n",
       "    </tr>\n",
       "    <tr>\n",
       "      <td>4</td>\n",
       "      <td>Afghanistan</td>\n",
       "      <td>2020-01-26</td>\n",
       "      <td>5</td>\n",
       "      <td>0.0</td>\n",
       "      <td>0.0</td>\n",
       "    </tr>\n",
       "    <tr>\n",
       "      <td>...</td>\n",
       "      <td>...</td>\n",
       "      <td>...</td>\n",
       "      <td>...</td>\n",
       "      <td>...</td>\n",
       "      <td>...</td>\n",
       "    </tr>\n",
       "    <tr>\n",
       "      <td>12105</td>\n",
       "      <td>Zimbabwe</td>\n",
       "      <td>2020-03-27</td>\n",
       "      <td>29366</td>\n",
       "      <td>5.0</td>\n",
       "      <td>1.0</td>\n",
       "    </tr>\n",
       "    <tr>\n",
       "      <td>12106</td>\n",
       "      <td>Zimbabwe</td>\n",
       "      <td>2020-03-28</td>\n",
       "      <td>29367</td>\n",
       "      <td>7.0</td>\n",
       "      <td>1.0</td>\n",
       "    </tr>\n",
       "    <tr>\n",
       "      <td>12107</td>\n",
       "      <td>Zimbabwe</td>\n",
       "      <td>2020-03-29</td>\n",
       "      <td>29368</td>\n",
       "      <td>7.0</td>\n",
       "      <td>1.0</td>\n",
       "    </tr>\n",
       "    <tr>\n",
       "      <td>12108</td>\n",
       "      <td>Zimbabwe</td>\n",
       "      <td>2020-03-30</td>\n",
       "      <td>29369</td>\n",
       "      <td>7.0</td>\n",
       "      <td>1.0</td>\n",
       "    </tr>\n",
       "    <tr>\n",
       "      <td>12109</td>\n",
       "      <td>Zimbabwe</td>\n",
       "      <td>2020-03-31</td>\n",
       "      <td>29370</td>\n",
       "      <td>8.0</td>\n",
       "      <td>1.0</td>\n",
       "    </tr>\n",
       "  </tbody>\n",
       "</table>\n",
       "<p>12110 rows × 5 columns</p>\n",
       "</div>"
      ],
      "text/plain": [
       "           Country        Date     Id  Confirmed_Cases  Fatalities\n",
       "0      Afghanistan  2020-01-22      1              0.0         0.0\n",
       "1      Afghanistan  2020-01-23      2              0.0         0.0\n",
       "2      Afghanistan  2020-01-24      3              0.0         0.0\n",
       "3      Afghanistan  2020-01-25      4              0.0         0.0\n",
       "4      Afghanistan  2020-01-26      5              0.0         0.0\n",
       "...            ...         ...    ...              ...         ...\n",
       "12105     Zimbabwe  2020-03-27  29366              5.0         1.0\n",
       "12106     Zimbabwe  2020-03-28  29367              7.0         1.0\n",
       "12107     Zimbabwe  2020-03-29  29368              7.0         1.0\n",
       "12108     Zimbabwe  2020-03-30  29369              7.0         1.0\n",
       "12109     Zimbabwe  2020-03-31  29370              8.0         1.0\n",
       "\n",
       "[12110 rows x 5 columns]"
      ]
     },
     "execution_count": 43,
     "metadata": {},
     "output_type": "execute_result"
    }
   ],
   "source": [
    "df4"
   ]
  },
  {
   "cell_type": "code",
   "execution_count": 44,
   "metadata": {},
   "outputs": [
    {
     "name": "stdout",
     "output_type": "stream",
     "text": [
      "           Confirmed_Cases Fatalities\n",
      "                       sum        sum\n",
      "Date                                 \n",
      "2020-01-22             0.0        0.0\n",
      "2020-01-23             0.0        0.0\n",
      "2020-01-24             0.0        0.0\n",
      "2020-01-25             0.0        0.0\n",
      "2020-01-26             0.0        0.0\n",
      "...                    ...        ...\n",
      "2020-03-27        101580.0     1578.0\n",
      "2020-03-28        121326.0     2023.0\n",
      "2020-03-29        140734.0     2464.0\n",
      "2020-03-30        161655.0     2975.0\n",
      "2020-03-31        188018.0     3870.0\n",
      "\n",
      "[70 rows x 2 columns]\n",
      "           Confirmed_Cases Fatalities\n",
      "                       sum        sum\n",
      "Date                                 \n",
      "2020-01-22           548.0       17.0\n",
      "2020-01-23           643.0       18.0\n",
      "2020-01-24           920.0       26.0\n",
      "2020-01-25          1406.0       42.0\n",
      "2020-01-26          2075.0       56.0\n",
      "...                    ...        ...\n",
      "2020-03-27         81897.0     3296.0\n",
      "2020-03-28         81999.0     3299.0\n",
      "2020-03-29         82122.0     3304.0\n",
      "2020-03-30         82198.0     3308.0\n",
      "2020-03-31         82279.0     3309.0\n",
      "\n",
      "[70 rows x 2 columns]\n",
      "           Confirmed_Cases Fatalities\n",
      "                       sum        sum\n",
      "Date                                 \n",
      "2020-01-22             0.0        0.0\n",
      "2020-01-23             0.0        0.0\n",
      "2020-01-24             0.0        0.0\n",
      "2020-01-25             0.0        0.0\n",
      "2020-01-26             1.0        0.0\n",
      "...                    ...        ...\n",
      "2020-03-27          4665.0       53.0\n",
      "2020-03-28          5558.0       60.0\n",
      "2020-03-29          6262.0       63.0\n",
      "2020-03-30          7380.0       79.0\n",
      "2020-03-31          8508.0      100.0\n",
      "\n",
      "[70 rows x 2 columns]\n",
      "           Confirmed_Cases Fatalities\n",
      "                       sum        sum\n",
      "Date                                 \n",
      "2020-01-22             0.0        0.0\n",
      "2020-01-23             0.0        0.0\n",
      "2020-01-24             2.0        0.0\n",
      "2020-01-25             3.0        0.0\n",
      "2020-01-26             3.0        0.0\n",
      "...                    ...        ...\n",
      "2020-03-27         33402.0     1997.0\n",
      "2020-03-28         38105.0     2317.0\n",
      "2020-03-29         40708.0     2611.0\n",
      "2020-03-30         45170.0     3030.0\n",
      "2020-03-31         52827.0     3532.0\n",
      "\n",
      "[70 rows x 2 columns]\n",
      "           Confirmed_Cases Fatalities\n",
      "                       sum        sum\n",
      "Date                                 \n",
      "2020-01-22             0.0        0.0\n",
      "2020-01-23             0.0        0.0\n",
      "2020-01-24             0.0        0.0\n",
      "2020-01-25             0.0        0.0\n",
      "2020-01-26             4.0        0.0\n",
      "...                    ...        ...\n",
      "2020-03-27          3143.0       13.0\n",
      "2020-03-28          3640.0       14.0\n",
      "2020-03-29          3984.0       16.0\n",
      "2020-03-30          4361.0       17.0\n",
      "2020-03-31          4559.0       18.0\n",
      "\n",
      "[70 rows x 2 columns]\n",
      "           Confirmed_Cases Fatalities\n",
      "                       sum        sum\n",
      "Date                                 \n",
      "2020-01-22             0.0        0.0\n",
      "2020-01-23             0.0        0.0\n",
      "2020-01-24             0.0        0.0\n",
      "2020-01-25             0.0        0.0\n",
      "2020-01-26             0.0        0.0\n",
      "...                    ...        ...\n",
      "2020-03-27         14745.0      761.0\n",
      "2020-03-28         17304.0     1021.0\n",
      "2020-03-29         19772.0     1231.0\n",
      "2020-03-30         22444.0     1411.0\n",
      "2020-03-31         25471.0     1793.0\n",
      "\n",
      "[70 rows x 2 columns]\n",
      "           Confirmed_Cases Fatalities\n",
      "                       sum        sum\n",
      "Date                                 \n",
      "2020-01-22             0.0        0.0\n",
      "2020-01-23             0.0        0.0\n",
      "2020-01-24             0.0        0.0\n",
      "2020-01-25             0.0        0.0\n",
      "2020-01-26             0.0        0.0\n",
      "...                    ...        ...\n",
      "2020-03-27          8647.0      547.0\n",
      "2020-03-28          9819.0      640.0\n",
      "2020-03-29         10930.0      772.0\n",
      "2020-03-30         11817.0      865.0\n",
      "2020-03-31         12667.0     1040.0\n",
      "\n",
      "[70 rows x 2 columns]\n",
      "           Confirmed_Cases Fatalities\n",
      "                       sum        sum\n",
      "Date                                 \n",
      "2020-01-22             0.0        0.0\n",
      "2020-01-23             0.0        0.0\n",
      "2020-01-24             0.0        0.0\n",
      "2020-01-25             0.0        0.0\n",
      "2020-01-26             0.0        0.0\n",
      "...                    ...        ...\n",
      "2020-03-27          2200.0       52.0\n",
      "2020-03-28          2366.0       65.0\n",
      "2020-03-29          2564.0       72.0\n",
      "2020-03-30          2755.0       77.0\n",
      "2020-03-31          3039.0       90.0\n",
      "\n",
      "[70 rows x 2 columns]\n",
      "           Confirmed_Cases Fatalities\n",
      "                       sum        sum\n",
      "Date                                 \n",
      "2020-01-22             0.0        0.0\n",
      "2020-01-23             0.0        0.0\n",
      "2020-01-24             0.0        0.0\n",
      "2020-01-25             0.0        0.0\n",
      "2020-01-26             0.0        0.0\n",
      "...                    ...        ...\n",
      "2020-03-27           162.0        5.0\n",
      "2020-03-28           179.0        5.0\n",
      "2020-03-29           214.0        5.0\n",
      "2020-03-30           230.0        7.0\n",
      "2020-03-31           262.0        8.0\n",
      "\n",
      "[70 rows x 2 columns]\n",
      "           Confirmed_Cases Fatalities\n",
      "                       sum        sum\n",
      "Date                                 \n",
      "2020-01-22             0.0        0.0\n",
      "2020-01-23             0.0        0.0\n",
      "2020-01-24             0.0        0.0\n",
      "2020-01-25             0.0        0.0\n",
      "2020-01-26             0.0        0.0\n",
      "...                    ...        ...\n",
      "2020-03-27           712.0       10.0\n",
      "2020-03-28           712.0       10.0\n",
      "2020-03-29           712.0       10.0\n",
      "2020-03-30           712.0       10.0\n",
      "2020-03-31           712.0       10.0\n",
      "\n",
      "[70 rows x 2 columns]\n",
      "           Confirmed_Cases Fatalities\n",
      "                       sum        sum\n",
      "Date                                 \n",
      "2020-01-22             0.0        0.0\n",
      "2020-01-23             0.0        0.0\n",
      "2020-01-24             0.0        0.0\n",
      "2020-01-25             0.0        0.0\n",
      "2020-01-26             0.0        0.0\n",
      "...                    ...        ...\n",
      "2020-03-27          3755.0       19.0\n",
      "2020-03-28          4015.0       23.0\n",
      "2020-03-29          4284.0       25.0\n",
      "2020-03-30          4445.0       32.0\n",
      "2020-03-31          4641.0       39.0\n",
      "\n",
      "[70 rows x 2 columns]\n",
      "           Confirmed_Cases Fatalities\n",
      "                       sum        sum\n",
      "Date                                 \n",
      "2020-01-22             0.0        0.0\n",
      "2020-01-23             0.0        0.0\n",
      "2020-01-24             0.0        0.0\n",
      "2020-01-25             0.0        0.0\n",
      "2020-01-26             0.0        0.0\n",
      "...                    ...        ...\n",
      "2020-03-27             1.0        0.0\n",
      "2020-03-28             1.0        0.0\n",
      "2020-03-29             1.0        0.0\n",
      "2020-03-30             1.0        0.0\n",
      "2020-03-31             1.0        0.0\n",
      "\n",
      "[70 rows x 2 columns]\n",
      "           Confirmed_Cases Fatalities\n",
      "                       sum        sum\n",
      "Date                                 \n",
      "2020-01-22             0.0        0.0\n",
      "2020-01-23             0.0        0.0\n",
      "2020-01-24             0.0        0.0\n",
      "2020-01-25             0.0        0.0\n",
      "2020-01-26             0.0        0.0\n",
      "...                    ...        ...\n",
      "2020-03-27          7657.0       58.0\n",
      "2020-03-28          8271.0       68.0\n",
      "2020-03-29          8788.0       86.0\n",
      "2020-03-30          9618.0      108.0\n",
      "2020-03-31         10180.0      128.0\n",
      "\n",
      "[70 rows x 2 columns]\n",
      "           Confirmed_Cases Fatalities\n",
      "                       sum        sum\n",
      "Date                                 \n",
      "2020-01-22             0.0        0.0\n",
      "2020-01-23             0.0        0.0\n",
      "2020-01-24             0.0        0.0\n",
      "2020-01-25             0.0        0.0\n",
      "2020-01-26             0.0        0.0\n",
      "...                    ...        ...\n",
      "2020-03-27             3.0        0.0\n",
      "2020-03-28             3.0        0.0\n",
      "2020-03-29             9.0        0.0\n",
      "2020-03-30             9.0        0.0\n",
      "2020-03-31            13.0        0.0\n",
      "\n",
      "[70 rows x 2 columns]\n",
      "           Confirmed_Cases Fatalities\n",
      "                       sum        sum\n",
      "Date                                 \n",
      "2020-01-22             0.0        0.0\n",
      "2020-01-23             0.0        0.0\n",
      "2020-01-24             0.0        0.0\n",
      "2020-01-25             0.0        0.0\n",
      "2020-01-26             0.0        0.0\n",
      "...                    ...        ...\n",
      "2020-03-27             2.0        0.0\n",
      "2020-03-28             2.0        0.0\n",
      "2020-03-29             2.0        0.0\n",
      "2020-03-30             8.0        0.0\n",
      "2020-03-31             8.0        0.0\n",
      "\n",
      "[70 rows x 2 columns]\n",
      "           Confirmed_Cases Fatalities\n",
      "                       sum        sum\n",
      "Date                                 \n",
      "2020-01-22             0.0        0.0\n",
      "2020-01-23             0.0        0.0\n",
      "2020-01-24             0.0        0.0\n",
      "2020-01-25             0.0        0.0\n",
      "2020-01-26             0.0        0.0\n",
      "...                    ...        ...\n",
      "2020-03-27           536.0       30.0\n",
      "2020-03-28           576.0       36.0\n",
      "2020-03-29           609.0       40.0\n",
      "2020-03-30           656.0       41.0\n",
      "2020-03-31           710.0       46.0\n",
      "\n",
      "[70 rows x 2 columns]\n",
      "           Confirmed_Cases Fatalities\n",
      "                       sum        sum\n",
      "Date                                 \n",
      "2020-01-22             0.0        0.0\n",
      "2020-01-23             0.0        0.0\n",
      "2020-01-24             0.0        0.0\n",
      "2020-01-25             0.0        0.0\n",
      "2020-01-26             0.0        0.0\n",
      "...                    ...        ...\n",
      "2020-03-27             3.0        1.0\n",
      "2020-03-28             3.0        1.0\n",
      "2020-03-29             4.0        1.0\n",
      "2020-03-30             4.0        1.0\n",
      "2020-03-31             4.0        1.0\n",
      "\n",
      "[70 rows x 2 columns]\n",
      "           Confirmed_Cases Fatalities\n",
      "                       sum        sum\n",
      "Date                                 \n",
      "2020-01-22             0.0        0.0\n",
      "2020-01-23             0.0        0.0\n",
      "2020-01-24             0.0        0.0\n",
      "2020-01-25             0.0        0.0\n",
      "2020-01-26             0.0        0.0\n",
      "...                    ...        ...\n",
      "2020-03-27           803.0       54.0\n",
      "2020-03-28          1075.0       68.0\n",
      "2020-03-29          1418.0       71.0\n",
      "2020-03-30          1546.0       78.0\n",
      "2020-03-31          2084.0       88.0\n",
      "\n",
      "[70 rows x 2 columns]\n",
      "           Confirmed_Cases Fatalities\n",
      "                       sum        sum\n",
      "Date                                 \n",
      "2020-01-22             0.0        0.0\n",
      "2020-01-23             0.0        0.0\n",
      "2020-01-24             0.0        0.0\n",
      "2020-01-25             0.0        0.0\n",
      "2020-01-26             0.0        0.0\n",
      "...                    ...        ...\n",
      "2020-03-27            94.0        2.0\n",
      "2020-03-28           102.0        2.0\n",
      "2020-03-29           107.0        3.0\n",
      "2020-03-30           128.0        3.0\n",
      "2020-03-31           143.0        5.0\n",
      "\n",
      "[70 rows x 2 columns]\n",
      "           Confirmed_Cases Fatalities\n",
      "                       sum        sum\n",
      "Date                                 \n",
      "2020-01-22             0.0        0.0\n",
      "2020-01-23             0.0        0.0\n",
      "2020-01-24             0.0        0.0\n",
      "2020-01-25             1.0        0.0\n",
      "2020-01-26             1.0        0.0\n",
      "...                    ...        ...\n",
      "2020-03-27             4.0        0.0\n",
      "2020-03-28             5.0        0.0\n",
      "2020-03-29             5.0        0.0\n",
      "2020-03-30             5.0        0.0\n",
      "2020-03-31             5.0        0.0\n",
      "\n",
      "[70 rows x 2 columns]\n"
     ]
    }
   ],
   "source": [
    "for i in covid_countries:\n",
    "    ConfirmedCases_date_Canada = df2[df2['Country']==i].groupby(['Date']).agg({'Confirmed_Cases':['sum']})\n",
    "    fatalities_date_Canada = df2[df2['Country']==i].groupby(['Date']).agg({'Fatalities':['sum']})\n",
    "    total_date_Canada = ConfirmedCases_date_Canada.join(fatalities_date_Canada)\n",
    "    print((total_date_Canada))"
   ]
  },
  {
   "cell_type": "code",
   "execution_count": 45,
   "metadata": {},
   "outputs": [
    {
     "data": {
      "text/html": [
       "<div>\n",
       "<style scoped>\n",
       "    .dataframe tbody tr th:only-of-type {\n",
       "        vertical-align: middle;\n",
       "    }\n",
       "\n",
       "    .dataframe tbody tr th {\n",
       "        vertical-align: top;\n",
       "    }\n",
       "\n",
       "    .dataframe thead tr th {\n",
       "        text-align: left;\n",
       "    }\n",
       "\n",
       "    .dataframe thead tr:last-of-type th {\n",
       "        text-align: right;\n",
       "    }\n",
       "</style>\n",
       "<table border=\"1\" class=\"dataframe\">\n",
       "  <thead>\n",
       "    <tr>\n",
       "      <th></th>\n",
       "      <th>Confirmed_Cases</th>\n",
       "      <th>Fatalities</th>\n",
       "    </tr>\n",
       "    <tr>\n",
       "      <th></th>\n",
       "      <th>sum</th>\n",
       "      <th>sum</th>\n",
       "    </tr>\n",
       "    <tr>\n",
       "      <th>Date</th>\n",
       "      <th></th>\n",
       "      <th></th>\n",
       "    </tr>\n",
       "  </thead>\n",
       "  <tbody>\n",
       "    <tr>\n",
       "      <td>2020-01-22</td>\n",
       "      <td>0.0</td>\n",
       "      <td>0.0</td>\n",
       "    </tr>\n",
       "    <tr>\n",
       "      <td>2020-01-23</td>\n",
       "      <td>0.0</td>\n",
       "      <td>0.0</td>\n",
       "    </tr>\n",
       "    <tr>\n",
       "      <td>2020-01-24</td>\n",
       "      <td>0.0</td>\n",
       "      <td>0.0</td>\n",
       "    </tr>\n",
       "    <tr>\n",
       "      <td>2020-01-25</td>\n",
       "      <td>1.0</td>\n",
       "      <td>0.0</td>\n",
       "    </tr>\n",
       "    <tr>\n",
       "      <td>2020-01-26</td>\n",
       "      <td>1.0</td>\n",
       "      <td>0.0</td>\n",
       "    </tr>\n",
       "    <tr>\n",
       "      <td>...</td>\n",
       "      <td>...</td>\n",
       "      <td>...</td>\n",
       "    </tr>\n",
       "    <tr>\n",
       "      <td>2020-03-27</td>\n",
       "      <td>4.0</td>\n",
       "      <td>0.0</td>\n",
       "    </tr>\n",
       "    <tr>\n",
       "      <td>2020-03-28</td>\n",
       "      <td>5.0</td>\n",
       "      <td>0.0</td>\n",
       "    </tr>\n",
       "    <tr>\n",
       "      <td>2020-03-29</td>\n",
       "      <td>5.0</td>\n",
       "      <td>0.0</td>\n",
       "    </tr>\n",
       "    <tr>\n",
       "      <td>2020-03-30</td>\n",
       "      <td>5.0</td>\n",
       "      <td>0.0</td>\n",
       "    </tr>\n",
       "    <tr>\n",
       "      <td>2020-03-31</td>\n",
       "      <td>5.0</td>\n",
       "      <td>0.0</td>\n",
       "    </tr>\n",
       "  </tbody>\n",
       "</table>\n",
       "<p>70 rows × 2 columns</p>\n",
       "</div>"
      ],
      "text/plain": [
       "           Confirmed_Cases Fatalities\n",
       "                       sum        sum\n",
       "Date                                 \n",
       "2020-01-22             0.0        0.0\n",
       "2020-01-23             0.0        0.0\n",
       "2020-01-24             0.0        0.0\n",
       "2020-01-25             1.0        0.0\n",
       "2020-01-26             1.0        0.0\n",
       "...                    ...        ...\n",
       "2020-03-27             4.0        0.0\n",
       "2020-03-28             5.0        0.0\n",
       "2020-03-29             5.0        0.0\n",
       "2020-03-30             5.0        0.0\n",
       "2020-03-31             5.0        0.0\n",
       "\n",
       "[70 rows x 2 columns]"
      ]
     },
     "execution_count": 45,
     "metadata": {},
     "output_type": "execute_result"
    }
   ],
   "source": [
    "pd.DataFrame(total_date_Canada)"
   ]
  }
 ],
 "metadata": {
  "kernelspec": {
   "display_name": "Python 3",
   "language": "python",
   "name": "python3"
  },
  "language_info": {
   "codemirror_mode": {
    "name": "ipython",
    "version": 3
   },
   "file_extension": ".py",
   "mimetype": "text/x-python",
   "name": "python",
   "nbconvert_exporter": "python",
   "pygments_lexer": "ipython3",
   "version": "3.6.9"
  }
 },
 "nbformat": 4,
 "nbformat_minor": 2
}
